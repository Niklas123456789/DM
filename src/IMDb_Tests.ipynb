{
 "metadata": {
  "language_info": {
   "codemirror_mode": {
    "name": "ipython",
    "version": 3
   },
   "file_extension": ".py",
   "mimetype": "text/x-python",
   "name": "python",
   "nbconvert_exporter": "python",
   "pygments_lexer": "ipython3",
   "version": "3.8.6-final"
  },
  "orig_nbformat": 2,
  "kernelspec": {
   "name": "uni.dm.ga",
   "display_name": "uni.dm.ga"
  }
 },
 "nbformat": 4,
 "nbformat_minor": 2,
 "cells": [
  {
   "cell_type": "code",
   "execution_count": 1,
   "metadata": {},
   "outputs": [],
   "source": [
    "import sys\n",
    "sys.path.append('../tudataset/tud_benchmark/')\n",
    "\n",
    "from predecon import PreDeCon\n",
    "from pathlib import Path\n",
    "from scipy.sparse import linalg\n",
    "\n",
    "from auxiliarymethods.auxiliary_methods import normalize_feature_vector as normalize\n",
    "from sources.utility_functions import load_sparse as load\n",
    "from sources.dimensionality_reduction import truncatedSVD as svd"
   ]
  },
  {
   "cell_type": "code",
   "execution_count": 2,
   "metadata": {},
   "outputs": [],
   "source": [
    "imdb = Path('../graph_representations/without_labels/')\n",
    "wl1_vectors = normalize(load(imdb / 'IMDB-BINARY_vectors_wl1.npz'))\n",
    "wl1_svd100  = svd(wl1_vectors, 100)"
   ]
  },
  {
   "cell_type": "code",
   "execution_count": 3,
   "metadata": {},
   "outputs": [
    {
     "output_type": "execute_result",
     "data": {
      "text/plain": [
       "{-1}"
      ]
     },
     "metadata": {},
     "execution_count": 3
    }
   ],
   "source": [
    "predecon = PreDeCon(minPts=25, eps=2, delta=0.5, lambda_=10, kappa=100)\n",
    "predecon.fit(wl1_svd100)\n",
    "set(predecon.labels)"
   ]
  },
  {
   "cell_type": "code",
   "execution_count": 4,
   "metadata": {},
   "outputs": [
    {
     "output_type": "stream",
     "name": "stdout",
     "text": [
      "  0.2064s cn\n  0.2676s cspm\n  0.2578s csm\n  0.0075s cwn\n  0.0003s ccp\n  0.0114s cr\n  0.0002s cc\n  0.7514s fit\n\n"
     ]
    }
   ],
   "source": [
    "print(predecon.performance())"
   ]
  },
  {
   "cell_type": "code",
   "execution_count": 5,
   "metadata": {},
   "outputs": [
    {
     "output_type": "execute_result",
     "data": {
      "text/plain": [
       "1000"
      ]
     },
     "metadata": {},
     "execution_count": 5
    }
   ],
   "source": [
    "predecon.num_points"
   ]
  },
  {
   "cell_type": "code",
   "execution_count": null,
   "metadata": {},
   "outputs": [],
   "source": []
  }
 ]
}