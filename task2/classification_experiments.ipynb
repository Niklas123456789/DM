{
  "nbformat": 4,
  "nbformat_minor": 0,
  "metadata": {
    "colab": {
      "name": "classification_experiments.ipynb",
      "provenance": [],
      "collapsed_sections": []
    },
    "kernelspec": {
      "name": "python3",
      "display_name": "Python 3"
    },
    "accelerator": "GPU"
  },
  "cells": [
    {
      "cell_type": "markdown",
      "metadata": {
        "id": "oRLJpDeEKBA7"
      },
      "source": [
        "# Task 2: Graph Property Prediction\n",
        "## (b) Classification Experiments"
      ]
    },
    {
      "cell_type": "markdown",
      "metadata": {
        "id": "tG12wlAlKg6y"
      },
      "source": [
        "### Setup\n",
        "Setup TUDataset environment and generate kernels as shown in the provided `generate_kernels.ipynb` notebook."
      ]
    },
    {
      "cell_type": "code",
      "metadata": {
        "id": "v-VN1RcQBUvc"
      },
      "source": [
        "%%capture\n",
        "!git clone https://github.com/chrsmrrs/tudataset.git\n",
        "\n",
        "%pip --no-cache-dir install torch-scatter==latest+cu101 -f https://pytorch-geometric.com/whl/torch-1.7.0.html\n",
        "%pip --no-cache-dir install torch-sparse==latest+cu101 -f https://pytorch-geometric.com/whl/torch-1.7.0.html\n",
        "%pip --no-cache-dir install torch-cluster==latest+cu101 -f https://pytorch-geometric.com/whl/torch-1.7.0.html\n",
        "%pip --no-cache-dir install torch-spline-conv==latest+cu101 -f https://pytorch-geometric.com/whl/torch-1.7.0.html\n",
        "%pip --no-cache-dir install torch-geometric\n",
        "\n",
        "%pip --no-cache-dir install pybind11\n",
        "!sudo apt-get install libeigen3-dev\n",
        "\n",
        "%cd ../content/tudataset/tud_benchmark/kernel_baselines/\n",
        "!g++ -I /usr/include/eigen3 -O3 -shared -std=c++11 -fPIC `python3 -m pybind11 --includes`  kernel_baselines.cpp src/*cpp -o ../kernel_baselines`python3-config --extension-suffix`\n",
        "%cd .."
      ],
      "execution_count": 1,
      "outputs": []
    },
    {
      "cell_type": "code",
      "metadata": {
        "id": "n8HOSZDPBbNV"
      },
      "source": [
        "import os\n",
        "import torch\n",
        "import numpy as np\n",
        "import kernel_baselines as kb\n",
        "import auxiliarymethods\n",
        "import auxiliarymethods.auxiliary_methods as aux\n",
        "import auxiliarymethods.datasets as dp\n",
        "import auxiliarymethods.kernel_evaluation as ke\n",
        "import matplotlib.pyplot as plt\n",
        "\n",
        "from sklearn.metrics import accuracy_score\n",
        "from sklearn.model_selection import KFold\n",
        "from sklearn.model_selection import train_test_split\n",
        "from sklearn.svm import SVC"
      ],
      "execution_count": 2,
      "outputs": []
    },
    {
      "cell_type": "code",
      "metadata": {
        "id": "VoWVqxq5B8RW"
      },
      "source": [
        "dataset = 'IMDB-BINARY'\n",
        "use_labels = False\n",
        "use_edge_labels = False\n",
        "\n",
        "os.makedirs('kernels/without_labels', exist_ok=True)\n",
        "classes = dp.get_dataset(dataset)"
      ],
      "execution_count": 3,
      "outputs": []
    },
    {
      "cell_type": "markdown",
      "metadata": {
        "id": "8HBaJFoNVJcr"
      },
      "source": [
        "### Comparing the baseline graph kernels\n",
        "\n",
        "Our clustering algorithm was able to produce the best results on the Weisfeiler-Lehman 1 kernel using feature vectors. When applying the support vector classifier on the data, this trend continued:"
      ]
    },
    {
      "cell_type": "code",
      "metadata": {
        "id": "1QOJh_IJpbrh"
      },
      "source": [
        "def print_evaluation(title, features, linear=False):\n",
        "    num_reps = 10\n",
        "    evaluation = ke.linear_svm_evaluation if linear else ke.kernel_svm_evaluation\n",
        "    accuracy, std_10, std_100 = evaluation(features, classes, num_repetitions=num_reps, all_std=True)\n",
        "    print(f\"{title} accuracy: {accuracy:.2f} (STD10: {std_10:.4f}, STD100: {std_100:4f})\")"
      ],
      "execution_count": 6,
      "outputs": []
    },
    {
      "cell_type": "code",
      "metadata": {
        "id": "3QCfal8eONNe",
        "colab": {
          "base_uri": "https://localhost:8080/"
        },
        "outputId": "fc025b18-4c20-47a3-c206-bc9b1fb29dfc"
      },
      "source": [
        "print(\"WL gram matrix\")\n",
        "for iterations in range(5):\n",
        "    all_matrices = []\n",
        "    for i in range(1, iterations+2):\n",
        "        gm = kb.compute_wl_1_dense(dataset, i, use_labels, use_edge_labels)\n",
        "        gm = aux.normalize_gram_matrix(gm)\n",
        "        all_matrices.append(gm)\n",
        "    print_evaluation(f\"WL{iterations+1}\", all_matrices)"
      ],
      "execution_count": 8,
      "outputs": [
        {
          "output_type": "stream",
          "text": [
            "WL gram matrix\n",
            "WL1 accuracy: 73.10 (STD10: 0.6557, STD100: 3.940812)\n",
            "WL2 accuracy: 72.79 (STD10: 0.8324, STD100: 4.377888)\n",
            "WL3 accuracy: 72.26 (STD10: 0.7552, STD100: 4.559868)\n",
            "WL4 accuracy: 72.29 (STD10: 0.7176, STD100: 4.350391)\n",
            "WL5 accuracy: 72.60 (STD10: 0.9110, STD100: 4.787484)\n"
          ],
          "name": "stdout"
        }
      ]
    },
    {
      "cell_type": "code",
      "metadata": {
        "colab": {
          "base_uri": "https://localhost:8080/"
        },
        "id": "mtBynG34YEZf",
        "outputId": "1b798938-69bd-4ffa-c328-8a751f12591e"
      },
      "source": [
        "print(\"WL feature vectors\")\n",
        "for iterations in range(5):\n",
        "    feature_vectors = []\n",
        "\n",
        "    for i in range(1, iterations+2):\n",
        "        fv = kb.compute_wl_1_sparse(dataset, i, use_labels, use_edge_labels)\n",
        "        fv = aux.normalize_feature_vector(fv)\n",
        "        feature_vectors.append(fv)\n",
        "    print_evaluation(f\"WL{iterations+1}\", feature_vectors, linear=True)"
      ],
      "execution_count": 9,
      "outputs": [
        {
          "output_type": "stream",
          "text": [
            "WL feature vectors\n",
            "WL1 accuracy: 72.91 (STD10: 0.6172, STD100: 4.600207)\n",
            "WL2 accuracy: 72.62 (STD10: 0.7054, STD100: 3.905842)\n",
            "WL3 accuracy: 72.50 (STD10: 0.8556, STD100: 4.205948)\n",
            "WL4 accuracy: 72.12 (STD10: 0.7194, STD100: 3.973110)\n",
            "WL5 accuracy: 71.90 (STD10: 0.6245, STD100: 3.945884)\n"
          ],
          "name": "stdout"
        }
      ]
    },
    {
      "cell_type": "markdown",
      "metadata": {
        "id": "H_zakgFlXV-t"
      },
      "source": [
        "The best classification performance was achieved for the single-iteration \n",
        "version of the kernel. Not only did more iterations not improve the results, they got ever so slightly worse. Underfitting could be one possible explanation for this behaviour, if the algorithm is not able to make use of the additional features due to the relatively small dataset of only 1000 points.\n",
        "\n",
        "The different accuracies between the gram matrix and feature vector representations are negligible; however, the execution time on the sparse feature vectors is much lower. "
      ]
    },
    {
      "cell_type": "code",
      "metadata": {
        "colab": {
          "base_uri": "https://localhost:8080/"
        },
        "id": "OlIa8063h1x_",
        "outputId": "14c2af5b-8da9-4373-c35f-0c48340cceb5"
      },
      "source": [
        "features = kb.compute_graphlet_dense(dataset, use_labels, use_edge_labels)\n",
        "features = [aux.normalize_gram_matrix(features)]\n",
        "print_evaluation(\"Graphlet gram matrix\", features)\n",
        "\n",
        "features = kb.compute_graphlet_sparse(dataset, use_labels, use_edge_labels)\n",
        "features = [aux.normalize_feature_vector(features)]\n",
        "print_evaluation(\"Graphlet feature vec\", features, linear=True)\n",
        "\n",
        "features = kb.compute_shortestpath_dense(dataset, use_labels)\n",
        "features = [aux.normalize_gram_matrix(features)]\n",
        "print_evaluation(\"Shortest gram matrix\", features)\n",
        "\n",
        "features = kb.compute_shortestpath_sparse(dataset, use_labels)\n",
        "features = [aux.normalize_feature_vector(features)]\n",
        "print_evaluation(\"Shortest feature vec\", features, linear=True)"
      ],
      "execution_count": 10,
      "outputs": [
        {
          "output_type": "stream",
          "text": [
            "Graphlet gram matrix accuracy: 59.51 (STD10: 0.9914, STD100: 4.859002)\n",
            "Graphlet feature vec accuracy: 59.58 (STD10: 0.6416, STD100: 5.044165)\n",
            "Shortest gram matrix accuracy: 58.95 (STD10: 0.7632, STD100: 4.811185)\n",
            "Shortest feature vec accuracy: 59.24 (STD10: 0.2800, STD100: 4.829327)\n"
          ],
          "name": "stdout"
        }
      ]
    },
    {
      "cell_type": "markdown",
      "metadata": {
        "id": "fXm2S8doZx-e"
      },
      "source": [
        "Both the Graphlet and the Shortest Path kernel exhibit significantly worse classification accuracy than WL. Differences between those four kernel representations are negligible."
      ]
    },
    {
      "cell_type": "markdown",
      "metadata": {
        "id": "CnbnDQYGaQA0"
      },
      "source": [
        "### Cross Validation\n",
        "\n",
        "The provided `kernel_svm_evaluation` function applies a 10-fold cross validation in order to fit the regularization hyperparameter $c$. Experimentation showed that the best values for $c$ were usually 10, 100 or 1000, with no discernable difference in performance, so we set the value to a constant 100 for the next steps to reduce complexity. "
      ]
    },
    {
      "cell_type": "code",
      "metadata": {
        "colab": {
          "base_uri": "https://localhost:8080/"
        },
        "id": "zNuSPWaXoKwz",
        "outputId": "89cdbb5b-813e-406c-983f-408b707ff663"
      },
      "source": [
        "gram_matrix = kb.compute_wl_1_dense(dataset, 1, False, False)\n",
        "gram_matrix = aux.normalize_gram_matrix(gram_matrix)\n",
        "\n",
        "accuracies = []\n",
        "for train_index, val_index in KFold(n_splits=10, shuffle=True).split(classes):\n",
        "    X_train = gram_matrix[train_index, :][:, train_index]\n",
        "    X_val = gram_matrix[val_index, :][:, train_index]\n",
        "    y_train = classes[train_index]\n",
        "    y_val = classes[val_index]\n",
        "\n",
        "    clf = SVC(C=100, kernel='precomputed', tol=0.001)\n",
        "    clf.fit(X_train, y_train)\n",
        "\n",
        "    accuracies.append(accuracy_score(y_val, clf.predict(X_val)))\n",
        "\n",
        "print(\"cv accuracies:\", accuracies)\n",
        "print(\"mean:\", np.array(accuracies).mean())"
      ],
      "execution_count": 11,
      "outputs": [
        {
          "output_type": "stream",
          "text": [
            "cv accuracies: [0.75, 0.8, 0.7, 0.76, 0.69, 0.74, 0.77, 0.73, 0.7, 0.71]\n",
            "mean: 0.735\n"
          ],
          "name": "stdout"
        }
      ]
    },
    {
      "cell_type": "markdown",
      "metadata": {
        "id": "uGxZieUog_dn"
      },
      "source": [
        "### Visualizing the Classification Results\n",
        "\n",
        "\n"
      ]
    },
    {
      "cell_type": "code",
      "metadata": {
        "id": "KSE73AXbeN7_"
      },
      "source": [
        "def classify(gram_matrix, classes):\n",
        "    index = np.arange(len(classes))\n",
        "    train_index, test_index = train_test_split(index, test_size=0.3)\n",
        "\n",
        "    X_train = gram_matrix[train_index, :][:, train_index]\n",
        "    X_test = gram_matrix[test_index, :][:, train_index]\n",
        "    y_train = classes[train_index]\n",
        "    y_test = classes[test_index]\n",
        "\n",
        "    clf = SVC(C=100, kernel='precomputed', tol=0.001)\n",
        "    clf.fit(X_train, y_train)\n",
        "\n",
        "    prediction = clf.predict(X_test)\n",
        "\n",
        "    return prediction, y_test, test_index"
      ],
      "execution_count": 14,
      "outputs": []
    },
    {
      "cell_type": "code",
      "metadata": {
        "id": "plh-xGYPz2BZ"
      },
      "source": [
        "def visualize(prediction, y_test, test_index):\n",
        "    sorting = np.argsort(test_index)\n",
        "    test_sorted = y_test[sorting].reshape(20, 15)\n",
        "    prediction_sorted = prediction[sorting].reshape(20, 15)\n",
        "\n",
        "    fig, ax = plt.subplots(1, 3, figsize=(12, 5))\n",
        "    ax[0].imshow(test_sorted)\n",
        "    ax[1].imshow(prediction_sorted)\n",
        "    ax[2].imshow(test_sorted != prediction_sorted, cmap='seismic')\n",
        "\n",
        "    ax[0].set_title(\"true labels\")\n",
        "    ax[1].set_title(\"predicted labels\")\n",
        "    ax[2].set_title(\"misclassified\")\n",
        "\n",
        "    return fig"
      ],
      "execution_count": 31,
      "outputs": []
    },
    {
      "cell_type": "markdown",
      "metadata": {
        "id": "X4M3JvWsifDJ"
      },
      "source": [
        "This plot shows the results the classification. Purple and yellow datapoints are the two labels (*romance* and *action*). Our best predictor (with an accuracy of about 73%, see above) behaves roughly the same for both labels: There is about the same amount of misclassification for each of the labels."
      ]
    },
    {
      "cell_type": "code",
      "metadata": {
        "colab": {
          "base_uri": "https://localhost:8080/",
          "height": 368
        },
        "id": "Mq4lhhga0UQj",
        "outputId": "7ef68ed6-9a72-457c-b4e9-1a10ccb51acc"
      },
      "source": [
        "visualize(*classify(gram_matrix, classes)).suptitle(\"WL1 classification\")"
      ],
      "execution_count": 33,
      "outputs": [
        {
          "output_type": "execute_result",
          "data": {
            "text/plain": [
              "Text(0.5, 0.98, 'WL1 classification')"
            ]
          },
          "metadata": {
            "tags": []
          },
          "execution_count": 33
        },
        {
          "output_type": "display_data",
          "data": {
            "image/png": "[encoded data removed]",
            "text/plain": [
              "<Figure size 864x360 with 3 Axes>"
            ]
          },
          "metadata": {
            "tags": [],
            "needs_background": "light"
          }
        }
      ]
    },
    {
      "cell_type": "markdown",
      "metadata": {
        "id": "yCnzWFv1jgsR"
      },
      "source": [
        "Classification on the Graphlet kernel, however, shows more misclassified points among (true) label 1 than (true) label 0. In terms of an SVM, the resulting hyperplane could not discriminate between the two clusters as well, and it \"errs\" on the side of label 0. "
      ]
    },
    {
      "cell_type": "code",
      "metadata": {
        "colab": {
          "base_uri": "https://localhost:8080/",
          "height": 368
        },
        "id": "n4zq7FwmIu57",
        "outputId": "6db9ca0e-cedb-4607-92bd-458ecbd9072e"
      },
      "source": [
        "gram_matrix = kb.compute_graphlet_dense(dataset, False, False)\n",
        "gram_matrix = aux.normalize_gram_matrix(gram_matrix)\n",
        "\n",
        "visualize(*classify(gram_matrix, classes)).suptitle(\"Graphlet classification\")"
      ],
      "execution_count": 34,
      "outputs": [
        {
          "output_type": "execute_result",
          "data": {
            "text/plain": [
              "Text(0.5, 0.98, 'Graphlet classification')"
            ]
          },
          "metadata": {
            "tags": []
          },
          "execution_count": 34
        },
        {
          "output_type": "display_data",
          "data": {
            "image/png": "[encoded data removed]",
            "text/plain": [
              "<Figure size 864x360 with 3 Axes>"
            ]
          },
          "metadata": {
            "tags": [],
            "needs_background": "light"
          }
        }
      ]
    }
  ]
}