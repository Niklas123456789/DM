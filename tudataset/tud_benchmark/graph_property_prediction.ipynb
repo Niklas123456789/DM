{
  "nbformat": 4,
  "nbformat_minor": 0,
  "metadata": {
    "colab": {
      "name": "Kopie von generate_kernels.ipynb",
      "provenance": [],
      "include_colab_link": true
    },
    "kernelspec": {
      "name": "uni.dm.ga",
      "display_name": "uni.dm.ga",
      "language": "python"
    },
    "accelerator": "GPU"
  },
  "cells": [
    {
      "cell_type": "code",
      "execution_count": 1,
      "metadata": {},
      "outputs": [],
      "source": [
        "import networkx as nx\n",
        "import auxiliarymethods.auxiliary_methods as aux\n",
        "import auxiliarymethods.kernel_evaluation as ke\n",
        "import auxiliarymethods.datasets as dp\n",
        "import kernel_baselines as kb\n",
        "from auxiliarymethods.reader import tud_to_networkx\n",
        "import low_level_kernels as llk"
      ]
    },
    {
      "cell_type": "code",
      "execution_count": 2,
      "metadata": {},
      "outputs": [],
      "source": [
        "dataset = \"IMDB-BINARY\"\n",
        "classes = dp.get_dataset(dataset)\n",
        "G = tud_to_networkx(dataset)\n",
        "\n",
        "def eval(matrices):\n",
        "  accuracy, std_10, std_100 = ke.kernel_svm_evaluation(matrices, classes, num_repetitions=num_reps, all_std=True)\n",
        "  print(accuracy, std_10, std_100)"
      ]
    },
    {
      "cell_type": "code",
      "execution_count": 3,
      "metadata": {},
      "outputs": [],
      "source": [
        "all_kernels = []\n",
        "num_reps = 10"
      ]
    },
    {
      "source": [
        "eval prints the result of the evaluation of the kernel. The first value represents the accuracy of the kernel, while the latter two values represent the standard-deviation after 10 and 100 repetitions of cross-validation."
      ],
      "cell_type": "markdown",
      "metadata": {}
    },
    {
      "source": [
        "## c) Design own graph kernel"
      ],
      "cell_type": "markdown",
      "metadata": {}
    },
    {
      "cell_type": "code",
      "execution_count": 4,
      "metadata": {},
      "outputs": [
        {
          "output_type": "stream",
          "name": "stdout",
          "text": [
            "community_modularity_kernel\n",
            "58.92999999999999 1.153299614150633 4.6481286557065085\n"
          ]
        }
      ],
      "source": [
        "cmk = llk.community_modularity_kernel(G)\n",
        "all_kernels.append(cmk)\n",
        "print('community_modularity_kernel')\n",
        "eval([cmk])"
      ]
    },
    {
      "cell_type": "code",
      "execution_count": 5,
      "metadata": {},
      "outputs": [
        {
          "output_type": "stream",
          "name": "stdout",
          "text": [
            "node_edge_kernel\n",
            "51.89 1.3464397498588636 5.991485625452172\n"
          ]
        }
      ],
      "source": [
        "nek = llk.node_edge_kernel(G)\n",
        "all_kernels.append(nek)\n",
        "print('node_edge_kernel')\n",
        "eval([nek])"
      ]
    },
    {
      "cell_type": "code",
      "execution_count": 6,
      "metadata": {},
      "outputs": [
        {
          "output_type": "stream",
          "name": "stdout",
          "text": [
            "density_kernel\n",
            "56.910000000000004 0.9470480452437458 4.60889357655392\n"
          ]
        }
      ],
      "source": [
        "dk = llk.density_kernel(G)\n",
        "all_kernels.append(dk)\n",
        "print('density_kernel')\n",
        "eval([dk])"
      ]
    },
    {
      "cell_type": "code",
      "execution_count": 7,
      "metadata": {},
      "outputs": [
        {
          "output_type": "stream",
          "name": "stdout",
          "text": [
            "eigencentrality_kernel\n",
            "63.209999999999994 0.9984487968844471 5.461309366809392\n"
          ]
        }
      ],
      "source": [
        "ek = llk.eigencentrality_kernel(G)\n",
        "all_kernels.append(ek)\n",
        "print('eigencentrality_kernel')\n",
        "eval([ek])"
      ]
    },
    {
      "cell_type": "code",
      "execution_count": 8,
      "metadata": {},
      "outputs": [
        {
          "output_type": "stream",
          "name": "stdout",
          "text": [
            "treewidth_kernel\n",
            "49.35 1.2085114811204736 6.989098654333046\n"
          ]
        }
      ],
      "source": [
        "tk = llk.treewidth_kernel(G)\n",
        "all_kernels.append(tk)\n",
        "print('treewidth_kernel')\n",
        "eval([tk])"
      ]
    },
    {
      "cell_type": "code",
      "execution_count": 9,
      "metadata": {},
      "outputs": [
        {
          "output_type": "stream",
          "name": "stdout",
          "text": [
            "isomorphism_kernel_old\n",
            "61.84000000000001 1.0594338110519224 4.9269057226620445\n"
          ]
        }
      ],
      "source": [
        "iko = llk.isomorphism_kernel_old(G)\n",
        "all_kernels.append(iko)\n",
        "print('isomorphism_kernel_old')\n",
        "eval([iko])"
      ]
    },
    {
      "cell_type": "code",
      "execution_count": 10,
      "metadata": {},
      "outputs": [
        {
          "output_type": "stream",
          "name": "stdout",
          "text": [
            "61.56 1.1341957503006257 5.008632547911656\n"
          ]
        }
      ],
      "source": [
        "eval(all_kernels)"
      ]
    },
    {
      "source": [
        "## d) Experimentally evaluate your kernel"
      ],
      "cell_type": "markdown",
      "metadata": {}
    },
    {
      "cell_type": "code",
      "execution_count": 11,
      "metadata": {},
      "outputs": [
        {
          "output_type": "stream",
          "name": "stdout",
          "text": [
            "isomorphism_kernel\n",
            "62.17 1.4121260566960718 5.603668441298075\n"
          ]
        }
      ],
      "source": [
        "ik = llk.isomorphism_kernel(G,normalize=True)\n",
        "all_kernels.append(ik)\n",
        "print('isomorphism_kernel')\n",
        "eval([ik])"
      ]
    },
    {
      "cell_type": "code",
      "execution_count": 12,
      "metadata": {},
      "outputs": [
        {
          "output_type": "stream",
          "name": "stdout",
          "text": [
            "eigencentrality_kernel\n",
            "62.970000000000006 0.6542935121182238 4.205841176269024\n",
            "eigencentrality_kernel\n",
            "63.019999999999996 0.3627671429443416 4.973891836379236\n",
            "eigencentrality_kernel\n",
            "63.9 0.6131883886702341 4.928488612140643\n"
          ]
        }
      ],
      "source": [
        "ek = llk.eigencentrality_kernel(G,topN=6)\n",
        "all_kernels.append(ek)\n",
        "print('eigencentrality_kernel')\n",
        "eval([ek])\n",
        "ek = llk.eigencentrality_kernel(G,topN=8)\n",
        "all_kernels.append(ek)\n",
        "print('eigencentrality_kernel')\n",
        "eval([ek])\n",
        "ek = llk.eigencentrality_kernel(G,topN=10)\n",
        "all_kernels.append(ek)\n",
        "print('eigencentrality_kernel')\n",
        "eval([ek])"
      ]
    }
  ]
}