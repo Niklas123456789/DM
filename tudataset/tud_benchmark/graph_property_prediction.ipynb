{
  "nbformat": 4,
  "nbformat_minor": 0,
  "metadata": {
    "colab": {
      "name": "Kopie von generate_kernels.ipynb",
      "provenance": [],
      "include_colab_link": true
    },
    "kernelspec": {
      "name": "uni.dm.ga",
      "display_name": "uni.dm.ga",
      "language": "python"
    },
    "accelerator": "GPU"
  },
  "cells": [
    {
      "cell_type": "code",
      "execution_count": null,
      "metadata": {},
      "outputs": [],
      "source": [
        "import networkx as nx\n",
        "import auxiliarymethods.auxiliary_methods as aux\n",
        "import auxiliarymethods.kernel_evaluation as ke\n",
        "import auxiliarymethods.datasets as dp\n",
        "import kernel_baselines as kb\n",
        "from auxiliarymethods.reader import tud_to_networkx\n",
        "import low_level_kernels as llk"
      ]
    },
    {
      "cell_type": "code",
      "execution_count": null,
      "metadata": {},
      "outputs": [],
      "source": [
        "dataset = \"IMDB-BINARY\"\n",
        "classes = dp.get_dataset(dataset)\n",
        "G = tud_to_networkx(dataset)\n",
        "\n",
        "def eval(matrices):\n",
        "  accuracy, std_10, std_100 = ke.kernel_svm_evaluation(matrices, classes, num_repetitions=num_reps, all_std=True)\n",
        "  print(accuracy, std_10, std_100)"
      ]
    },
    {
      "cell_type": "code",
      "execution_count": null,
      "metadata": {},
      "outputs": [],
      "source": [
        "all_kernels = []\n",
        "num_reps = 10"
      ]
    },
    {
      "source": [
        "eval prints the result of the evaluation of the kernel. The first value represents the accuracy of the kernel, while the latter two values represent the standard-deviation after 10 and 100 repetitions of cross-validation."
      ],
      "cell_type": "markdown",
      "metadata": {}
    },
    {
      "source": [
        "## c) Design own graph kernel"
      ],
      "cell_type": "markdown",
      "metadata": {}
    },
    {
      "cell_type": "code",
      "execution_count": null,
      "metadata": {},
      "outputs": [],
      "source": [
        "nek = llk.node_edge_kernel(G)\n",
        "all_kernels.append(nek)\n",
        "print('node_edge_kernel')\n",
        "eval([nek])"
      ]
    },
    {
      "cell_type": "code",
      "execution_count": null,
      "metadata": {},
      "outputs": [],
      "source": [
        "dk = llk.density_kernel(G)\n",
        "all_kernels.append(dk)\n",
        "print('density_kernel')\n",
        "eval([dk])"
      ]
    },
    {
      "cell_type": "code",
      "execution_count": null,
      "metadata": {},
      "outputs": [],
      "source": [
        "ek = llk.eigencentrality_kernel(G,topN=5)\n",
        "all_kernels.append(ek)\n",
        "print('eigencentrality_kernel')\n",
        "eval([ek])"
      ]
    },
    {
      "cell_type": "code",
      "execution_count": null,
      "metadata": {},
      "outputs": [],
      "source": [
        "tk = llk.treewidth_kernel(G)\n",
        "all_kernels.append(tk)\n",
        "print('treewidth_kernel')\n",
        "eval([tk])"
      ]
    },
    {
      "cell_type": "code",
      "execution_count": null,
      "metadata": {},
      "outputs": [],
      "source": [
        "iko = llk.isomorphism_kernel_old(G)\n",
        "all_kernels.append(iko)\n",
        "print('isomorphism_kernel_old')\n",
        "eval([iko])"
      ]
    },
    {
      "cell_type": "code",
      "execution_count": null,
      "metadata": {},
      "outputs": [],
      "source": [
        "eval(all_kernels)"
      ]
    },
    {
      "cell_type": "code",
      "execution_count": null,
      "metadata": {},
      "outputs": [],
      "source": [
        "cmk = llk.community_modularity_kernel(G)\n",
        "all_kernels.append(cmk)\n",
        "print('community_modularity_kernel')\n",
        "eval([cmk])"
      ]
    },
    {
      "source": [
        "## d) Experimentally evaluate your kernel"
      ],
      "cell_type": "markdown",
      "metadata": {}
    },
    {
      "cell_type": "code",
      "execution_count": null,
      "metadata": {},
      "outputs": [],
      "source": [
        "ik = llk.isomorphism_kernel(G,normalize=True)\n",
        "all_kernels.append(ik)\n",
        "print('isomorphism_kernel')\n",
        "eval([ik])"
      ]
    },
    {
      "cell_type": "code",
      "execution_count": null,
      "metadata": {},
      "outputs": [],
      "source": [
        "ek = llk.eigencentrality_kernel(G)\n",
        "all_kernels.append(ek)\n",
        "print('eigencentrality_kernel')\n",
        "eval([ek])\n",
        "ek = llk.eigencentrality_kernel(G,topN=8)\n",
        "all_kernels.append(ek)\n",
        "print('eigencentrality_kernel')\n",
        "eval([ek])\n",
        "ek = llk.eigencentrality_kernel(G,topN=10)\n",
        "all_kernels.append(ek)\n",
        "print('eigencentrality_kernel')\n",
        "eval([ek])"
      ]
    },
    {
      "cell_type": "code",
      "execution_count": null,
      "metadata": {},
      "outputs": [],
      "source": []
    }
  ]
}